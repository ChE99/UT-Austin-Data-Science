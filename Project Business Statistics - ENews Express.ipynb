{
  "nbformat": 4,
  "nbformat_minor": 5,
  "metadata": {
    "kernelspec": {
      "display_name": "Python 3",
      "language": "python",
      "name": "python3"
    },
    "language_info": {
      "codemirror_mode": {
        "name": "ipython",
        "version": 3
      },
      "file_extension": ".py",
      "mimetype": "text/x-python",
      "name": "python",
      "nbconvert_exporter": "python",
      "pygments_lexer": "ipython3",
      "version": "3.8.8"
    },
    "colab": {
      "provenance": [],
      "collapsed_sections": [
        "d49bfa2d",
        "8d585a90",
        "3acbc947"
      ]
    }
  },
  "cells": [
    {
      "cell_type": "markdown",
      "metadata": {
        "id": "6yDxo9u0d9Na"
      },
      "source": [
        "# Project Business Statistics: E-news Express"
      ],
      "id": "6yDxo9u0d9Na"
    },
    {
      "cell_type": "markdown",
      "metadata": {
        "id": "SrLd-ICEmPSD"
      },
      "source": [
        "## Define Problem Statement and Objectives"
      ],
      "id": "SrLd-ICEmPSD"
    },
    {
      "cell_type": "markdown",
      "metadata": {
        "id": "9Vt1PLLqmXNn"
      },
      "source": [],
      "id": "9Vt1PLLqmXNn"
    },
    {
      "cell_type": "markdown",
      "metadata": {
        "id": "a6a3d218"
      },
      "source": [
        "## Import all the necessary libraries"
      ],
      "id": "a6a3d218"
    },
    {
      "cell_type": "code",
      "metadata": {
        "id": "658c5dec"
      },
      "source": [
        "import numpy as np\n",
        "import pandas as pd\n",
        "from matplotlib import pyplot as plt\n",
        "import seaborn as sns"
      ],
      "id": "658c5dec",
      "execution_count": null,
      "outputs": []
    },
    {
      "cell_type": "markdown",
      "metadata": {
        "id": "6970dd99"
      },
      "source": [
        "## Reading the Data into a DataFrame"
      ],
      "id": "6970dd99"
    },
    {
      "cell_type": "code",
      "metadata": {
        "id": "d3b95640"
      },
      "source": [
        "df = pd.read_csv('abtest.csv')"
      ],
      "id": "d3b95640",
      "execution_count": null,
      "outputs": []
    },
    {
      "cell_type": "markdown",
      "metadata": {
        "id": "9d75cfa2"
      },
      "source": [
        "## Explore the dataset and extract insights using Exploratory Data Analysis"
      ],
      "id": "9d75cfa2"
    },
    {
      "cell_type": "markdown",
      "metadata": {
        "id": "27201534"
      },
      "source": [
        "- Data Overview\n",
        "  - Viewing the first and last few rows of the dataset\n",
        "  - Checking the shape of the dataset\n",
        "  - Getting the statistical summary for the variables\n",
        "- Check for missing values\n",
        "- Check for duplicates"
      ],
      "id": "27201534"
    },
    {
      "cell_type": "code",
      "metadata": {
        "id": "e1ad11d4",
        "colab": {
          "base_uri": "https://localhost:8080/",
          "height": 206
        },
        "outputId": "338dca4f-6cb9-4870-f534-13c47638ec51"
      },
      "source": [
        "# Check the first five rows of the dataset.\n",
        "df.head()"
      ],
      "id": "e1ad11d4",
      "execution_count": null,
      "outputs": [
        {
          "output_type": "execute_result",
          "data": {
            "text/plain": [
              "   user_id      group landing_page  time_spent_on_the_page converted  \\\n",
              "0   546592    control          old                    3.48        no   \n",
              "1   546468  treatment          new                    7.13       yes   \n",
              "2   546462  treatment          new                    4.40        no   \n",
              "3   546567    control          old                    3.02        no   \n",
              "4   546459  treatment          new                    4.75       yes   \n",
              "\n",
              "  language_preferred  \n",
              "0            Spanish  \n",
              "1            English  \n",
              "2            Spanish  \n",
              "3             French  \n",
              "4            Spanish  "
            ],
            "text/html": [
              "\n",
              "  <div id=\"df-84ee517d-fdcd-476a-a7c0-eb8847f9e127\">\n",
              "    <div class=\"colab-df-container\">\n",
              "      <div>\n",
              "<style scoped>\n",
              "    .dataframe tbody tr th:only-of-type {\n",
              "        vertical-align: middle;\n",
              "    }\n",
              "\n",
              "    .dataframe tbody tr th {\n",
              "        vertical-align: top;\n",
              "    }\n",
              "\n",
              "    .dataframe thead th {\n",
              "        text-align: right;\n",
              "    }\n",
              "</style>\n",
              "<table border=\"1\" class=\"dataframe\">\n",
              "  <thead>\n",
              "    <tr style=\"text-align: right;\">\n",
              "      <th></th>\n",
              "      <th>user_id</th>\n",
              "      <th>group</th>\n",
              "      <th>landing_page</th>\n",
              "      <th>time_spent_on_the_page</th>\n",
              "      <th>converted</th>\n",
              "      <th>language_preferred</th>\n",
              "    </tr>\n",
              "  </thead>\n",
              "  <tbody>\n",
              "    <tr>\n",
              "      <th>0</th>\n",
              "      <td>546592</td>\n",
              "      <td>control</td>\n",
              "      <td>old</td>\n",
              "      <td>3.48</td>\n",
              "      <td>no</td>\n",
              "      <td>Spanish</td>\n",
              "    </tr>\n",
              "    <tr>\n",
              "      <th>1</th>\n",
              "      <td>546468</td>\n",
              "      <td>treatment</td>\n",
              "      <td>new</td>\n",
              "      <td>7.13</td>\n",
              "      <td>yes</td>\n",
              "      <td>English</td>\n",
              "    </tr>\n",
              "    <tr>\n",
              "      <th>2</th>\n",
              "      <td>546462</td>\n",
              "      <td>treatment</td>\n",
              "      <td>new</td>\n",
              "      <td>4.40</td>\n",
              "      <td>no</td>\n",
              "      <td>Spanish</td>\n",
              "    </tr>\n",
              "    <tr>\n",
              "      <th>3</th>\n",
              "      <td>546567</td>\n",
              "      <td>control</td>\n",
              "      <td>old</td>\n",
              "      <td>3.02</td>\n",
              "      <td>no</td>\n",
              "      <td>French</td>\n",
              "    </tr>\n",
              "    <tr>\n",
              "      <th>4</th>\n",
              "      <td>546459</td>\n",
              "      <td>treatment</td>\n",
              "      <td>new</td>\n",
              "      <td>4.75</td>\n",
              "      <td>yes</td>\n",
              "      <td>Spanish</td>\n",
              "    </tr>\n",
              "  </tbody>\n",
              "</table>\n",
              "</div>\n",
              "      <button class=\"colab-df-convert\" onclick=\"convertToInteractive('df-84ee517d-fdcd-476a-a7c0-eb8847f9e127')\"\n",
              "              title=\"Convert this dataframe to an interactive table.\"\n",
              "              style=\"display:none;\">\n",
              "        \n",
              "  <svg xmlns=\"http://www.w3.org/2000/svg\" height=\"24px\"viewBox=\"0 0 24 24\"\n",
              "       width=\"24px\">\n",
              "    <path d=\"M0 0h24v24H0V0z\" fill=\"none\"/>\n",
              "    <path d=\"M18.56 5.44l.94 2.06.94-2.06 2.06-.94-2.06-.94-.94-2.06-.94 2.06-2.06.94zm-11 1L8.5 8.5l.94-2.06 2.06-.94-2.06-.94L8.5 2.5l-.94 2.06-2.06.94zm10 10l.94 2.06.94-2.06 2.06-.94-2.06-.94-.94-2.06-.94 2.06-2.06.94z\"/><path d=\"M17.41 7.96l-1.37-1.37c-.4-.4-.92-.59-1.43-.59-.52 0-1.04.2-1.43.59L10.3 9.45l-7.72 7.72c-.78.78-.78 2.05 0 2.83L4 21.41c.39.39.9.59 1.41.59.51 0 1.02-.2 1.41-.59l7.78-7.78 2.81-2.81c.8-.78.8-2.07 0-2.86zM5.41 20L4 18.59l7.72-7.72 1.47 1.35L5.41 20z\"/>\n",
              "  </svg>\n",
              "      </button>\n",
              "      \n",
              "  <style>\n",
              "    .colab-df-container {\n",
              "      display:flex;\n",
              "      flex-wrap:wrap;\n",
              "      gap: 12px;\n",
              "    }\n",
              "\n",
              "    .colab-df-convert {\n",
              "      background-color: #E8F0FE;\n",
              "      border: none;\n",
              "      border-radius: 50%;\n",
              "      cursor: pointer;\n",
              "      display: none;\n",
              "      fill: #1967D2;\n",
              "      height: 32px;\n",
              "      padding: 0 0 0 0;\n",
              "      width: 32px;\n",
              "    }\n",
              "\n",
              "    .colab-df-convert:hover {\n",
              "      background-color: #E2EBFA;\n",
              "      box-shadow: 0px 1px 2px rgba(60, 64, 67, 0.3), 0px 1px 3px 1px rgba(60, 64, 67, 0.15);\n",
              "      fill: #174EA6;\n",
              "    }\n",
              "\n",
              "    [theme=dark] .colab-df-convert {\n",
              "      background-color: #3B4455;\n",
              "      fill: #D2E3FC;\n",
              "    }\n",
              "\n",
              "    [theme=dark] .colab-df-convert:hover {\n",
              "      background-color: #434B5C;\n",
              "      box-shadow: 0px 1px 3px 1px rgba(0, 0, 0, 0.15);\n",
              "      filter: drop-shadow(0px 1px 2px rgba(0, 0, 0, 0.3));\n",
              "      fill: #FFFFFF;\n",
              "    }\n",
              "  </style>\n",
              "\n",
              "      <script>\n",
              "        const buttonEl =\n",
              "          document.querySelector('#df-84ee517d-fdcd-476a-a7c0-eb8847f9e127 button.colab-df-convert');\n",
              "        buttonEl.style.display =\n",
              "          google.colab.kernel.accessAllowed ? 'block' : 'none';\n",
              "\n",
              "        async function convertToInteractive(key) {\n",
              "          const element = document.querySelector('#df-84ee517d-fdcd-476a-a7c0-eb8847f9e127');\n",
              "          const dataTable =\n",
              "            await google.colab.kernel.invokeFunction('convertToInteractive',\n",
              "                                                     [key], {});\n",
              "          if (!dataTable) return;\n",
              "\n",
              "          const docLinkHtml = 'Like what you see? Visit the ' +\n",
              "            '<a target=\"_blank\" href=https://colab.research.google.com/notebooks/data_table.ipynb>data table notebook</a>'\n",
              "            + ' to learn more about interactive tables.';\n",
              "          element.innerHTML = '';\n",
              "          dataTable['output_type'] = 'display_data';\n",
              "          await google.colab.output.renderOutput(dataTable, element);\n",
              "          const docLink = document.createElement('div');\n",
              "          docLink.innerHTML = docLinkHtml;\n",
              "          element.appendChild(docLink);\n",
              "        }\n",
              "      </script>\n",
              "    </div>\n",
              "  </div>\n",
              "  "
            ]
          },
          "metadata": {},
          "execution_count": 3
        }
      ]
    },
    {
      "cell_type": "code",
      "source": [
        "# Check the last five rows of the dataset.\n",
        "df.tail()"
      ],
      "metadata": {
        "colab": {
          "base_uri": "https://localhost:8080/",
          "height": 206
        },
        "id": "GQSHYUoa48i1",
        "outputId": "466a0534-6e22-4f60-d7e6-2caaa7e72ae8"
      },
      "id": "GQSHYUoa48i1",
      "execution_count": null,
      "outputs": [
        {
          "output_type": "execute_result",
          "data": {
            "text/plain": [
              "    user_id      group landing_page  time_spent_on_the_page converted  \\\n",
              "95   546446  treatment          new                    5.15        no   \n",
              "96   546544    control          old                    6.52       yes   \n",
              "97   546472  treatment          new                    7.07       yes   \n",
              "98   546481  treatment          new                    6.20       yes   \n",
              "99   546483  treatment          new                    5.86       yes   \n",
              "\n",
              "   language_preferred  \n",
              "95            Spanish  \n",
              "96            English  \n",
              "97            Spanish  \n",
              "98            Spanish  \n",
              "99            English  "
            ],
            "text/html": [
              "\n",
              "  <div id=\"df-c5592ddf-d75a-4113-9de9-035604934378\">\n",
              "    <div class=\"colab-df-container\">\n",
              "      <div>\n",
              "<style scoped>\n",
              "    .dataframe tbody tr th:only-of-type {\n",
              "        vertical-align: middle;\n",
              "    }\n",
              "\n",
              "    .dataframe tbody tr th {\n",
              "        vertical-align: top;\n",
              "    }\n",
              "\n",
              "    .dataframe thead th {\n",
              "        text-align: right;\n",
              "    }\n",
              "</style>\n",
              "<table border=\"1\" class=\"dataframe\">\n",
              "  <thead>\n",
              "    <tr style=\"text-align: right;\">\n",
              "      <th></th>\n",
              "      <th>user_id</th>\n",
              "      <th>group</th>\n",
              "      <th>landing_page</th>\n",
              "      <th>time_spent_on_the_page</th>\n",
              "      <th>converted</th>\n",
              "      <th>language_preferred</th>\n",
              "    </tr>\n",
              "  </thead>\n",
              "  <tbody>\n",
              "    <tr>\n",
              "      <th>95</th>\n",
              "      <td>546446</td>\n",
              "      <td>treatment</td>\n",
              "      <td>new</td>\n",
              "      <td>5.15</td>\n",
              "      <td>no</td>\n",
              "      <td>Spanish</td>\n",
              "    </tr>\n",
              "    <tr>\n",
              "      <th>96</th>\n",
              "      <td>546544</td>\n",
              "      <td>control</td>\n",
              "      <td>old</td>\n",
              "      <td>6.52</td>\n",
              "      <td>yes</td>\n",
              "      <td>English</td>\n",
              "    </tr>\n",
              "    <tr>\n",
              "      <th>97</th>\n",
              "      <td>546472</td>\n",
              "      <td>treatment</td>\n",
              "      <td>new</td>\n",
              "      <td>7.07</td>\n",
              "      <td>yes</td>\n",
              "      <td>Spanish</td>\n",
              "    </tr>\n",
              "    <tr>\n",
              "      <th>98</th>\n",
              "      <td>546481</td>\n",
              "      <td>treatment</td>\n",
              "      <td>new</td>\n",
              "      <td>6.20</td>\n",
              "      <td>yes</td>\n",
              "      <td>Spanish</td>\n",
              "    </tr>\n",
              "    <tr>\n",
              "      <th>99</th>\n",
              "      <td>546483</td>\n",
              "      <td>treatment</td>\n",
              "      <td>new</td>\n",
              "      <td>5.86</td>\n",
              "      <td>yes</td>\n",
              "      <td>English</td>\n",
              "    </tr>\n",
              "  </tbody>\n",
              "</table>\n",
              "</div>\n",
              "      <button class=\"colab-df-convert\" onclick=\"convertToInteractive('df-c5592ddf-d75a-4113-9de9-035604934378')\"\n",
              "              title=\"Convert this dataframe to an interactive table.\"\n",
              "              style=\"display:none;\">\n",
              "        \n",
              "  <svg xmlns=\"http://www.w3.org/2000/svg\" height=\"24px\"viewBox=\"0 0 24 24\"\n",
              "       width=\"24px\">\n",
              "    <path d=\"M0 0h24v24H0V0z\" fill=\"none\"/>\n",
              "    <path d=\"M18.56 5.44l.94 2.06.94-2.06 2.06-.94-2.06-.94-.94-2.06-.94 2.06-2.06.94zm-11 1L8.5 8.5l.94-2.06 2.06-.94-2.06-.94L8.5 2.5l-.94 2.06-2.06.94zm10 10l.94 2.06.94-2.06 2.06-.94-2.06-.94-.94-2.06-.94 2.06-2.06.94z\"/><path d=\"M17.41 7.96l-1.37-1.37c-.4-.4-.92-.59-1.43-.59-.52 0-1.04.2-1.43.59L10.3 9.45l-7.72 7.72c-.78.78-.78 2.05 0 2.83L4 21.41c.39.39.9.59 1.41.59.51 0 1.02-.2 1.41-.59l7.78-7.78 2.81-2.81c.8-.78.8-2.07 0-2.86zM5.41 20L4 18.59l7.72-7.72 1.47 1.35L5.41 20z\"/>\n",
              "  </svg>\n",
              "      </button>\n",
              "      \n",
              "  <style>\n",
              "    .colab-df-container {\n",
              "      display:flex;\n",
              "      flex-wrap:wrap;\n",
              "      gap: 12px;\n",
              "    }\n",
              "\n",
              "    .colab-df-convert {\n",
              "      background-color: #E8F0FE;\n",
              "      border: none;\n",
              "      border-radius: 50%;\n",
              "      cursor: pointer;\n",
              "      display: none;\n",
              "      fill: #1967D2;\n",
              "      height: 32px;\n",
              "      padding: 0 0 0 0;\n",
              "      width: 32px;\n",
              "    }\n",
              "\n",
              "    .colab-df-convert:hover {\n",
              "      background-color: #E2EBFA;\n",
              "      box-shadow: 0px 1px 2px rgba(60, 64, 67, 0.3), 0px 1px 3px 1px rgba(60, 64, 67, 0.15);\n",
              "      fill: #174EA6;\n",
              "    }\n",
              "\n",
              "    [theme=dark] .colab-df-convert {\n",
              "      background-color: #3B4455;\n",
              "      fill: #D2E3FC;\n",
              "    }\n",
              "\n",
              "    [theme=dark] .colab-df-convert:hover {\n",
              "      background-color: #434B5C;\n",
              "      box-shadow: 0px 1px 3px 1px rgba(0, 0, 0, 0.15);\n",
              "      filter: drop-shadow(0px 1px 2px rgba(0, 0, 0, 0.3));\n",
              "      fill: #FFFFFF;\n",
              "    }\n",
              "  </style>\n",
              "\n",
              "      <script>\n",
              "        const buttonEl =\n",
              "          document.querySelector('#df-c5592ddf-d75a-4113-9de9-035604934378 button.colab-df-convert');\n",
              "        buttonEl.style.display =\n",
              "          google.colab.kernel.accessAllowed ? 'block' : 'none';\n",
              "\n",
              "        async function convertToInteractive(key) {\n",
              "          const element = document.querySelector('#df-c5592ddf-d75a-4113-9de9-035604934378');\n",
              "          const dataTable =\n",
              "            await google.colab.kernel.invokeFunction('convertToInteractive',\n",
              "                                                     [key], {});\n",
              "          if (!dataTable) return;\n",
              "\n",
              "          const docLinkHtml = 'Like what you see? Visit the ' +\n",
              "            '<a target=\"_blank\" href=https://colab.research.google.com/notebooks/data_table.ipynb>data table notebook</a>'\n",
              "            + ' to learn more about interactive tables.';\n",
              "          element.innerHTML = '';\n",
              "          dataTable['output_type'] = 'display_data';\n",
              "          await google.colab.output.renderOutput(dataTable, element);\n",
              "          const docLink = document.createElement('div');\n",
              "          docLink.innerHTML = docLinkHtml;\n",
              "          element.appendChild(docLink);\n",
              "        }\n",
              "      </script>\n",
              "    </div>\n",
              "  </div>\n",
              "  "
            ]
          },
          "metadata": {},
          "execution_count": 4
        }
      ]
    },
    {
      "cell_type": "code",
      "source": [
        "# Check the shape of the dataset - rows by columns.\n",
        "df.shape"
      ],
      "metadata": {
        "colab": {
          "base_uri": "https://localhost:8080/"
        },
        "id": "_HMoMMZN5Cnp",
        "outputId": "e8426826-4515-4dd6-9a36-324edc2c2ef7"
      },
      "id": "_HMoMMZN5Cnp",
      "execution_count": null,
      "outputs": [
        {
          "output_type": "execute_result",
          "data": {
            "text/plain": [
              "(100, 6)"
            ]
          },
          "metadata": {},
          "execution_count": 5
        }
      ]
    },
    {
      "cell_type": "code",
      "source": [
        "# Get the statistical summary.\n",
        "df.describe()"
      ],
      "metadata": {
        "colab": {
          "base_uri": "https://localhost:8080/",
          "height": 300
        },
        "id": "r3moMlz1hRLI",
        "outputId": "f0bd7269-e6e3-49b3-ebcf-a40e855b8d56"
      },
      "id": "r3moMlz1hRLI",
      "execution_count": null,
      "outputs": [
        {
          "output_type": "execute_result",
          "data": {
            "text/plain": [
              "             user_id  time_spent_on_the_page\n",
              "count     100.000000              100.000000\n",
              "mean   546517.000000                5.377800\n",
              "std        52.295779                2.378166\n",
              "min    546443.000000                0.190000\n",
              "25%    546467.750000                3.880000\n",
              "50%    546492.500000                5.415000\n",
              "75%    546567.250000                7.022500\n",
              "max    546592.000000               10.710000"
            ],
            "text/html": [
              "\n",
              "  <div id=\"df-fffef648-d095-4a36-8076-5266916921d4\">\n",
              "    <div class=\"colab-df-container\">\n",
              "      <div>\n",
              "<style scoped>\n",
              "    .dataframe tbody tr th:only-of-type {\n",
              "        vertical-align: middle;\n",
              "    }\n",
              "\n",
              "    .dataframe tbody tr th {\n",
              "        vertical-align: top;\n",
              "    }\n",
              "\n",
              "    .dataframe thead th {\n",
              "        text-align: right;\n",
              "    }\n",
              "</style>\n",
              "<table border=\"1\" class=\"dataframe\">\n",
              "  <thead>\n",
              "    <tr style=\"text-align: right;\">\n",
              "      <th></th>\n",
              "      <th>user_id</th>\n",
              "      <th>time_spent_on_the_page</th>\n",
              "    </tr>\n",
              "  </thead>\n",
              "  <tbody>\n",
              "    <tr>\n",
              "      <th>count</th>\n",
              "      <td>100.000000</td>\n",
              "      <td>100.000000</td>\n",
              "    </tr>\n",
              "    <tr>\n",
              "      <th>mean</th>\n",
              "      <td>546517.000000</td>\n",
              "      <td>5.377800</td>\n",
              "    </tr>\n",
              "    <tr>\n",
              "      <th>std</th>\n",
              "      <td>52.295779</td>\n",
              "      <td>2.378166</td>\n",
              "    </tr>\n",
              "    <tr>\n",
              "      <th>min</th>\n",
              "      <td>546443.000000</td>\n",
              "      <td>0.190000</td>\n",
              "    </tr>\n",
              "    <tr>\n",
              "      <th>25%</th>\n",
              "      <td>546467.750000</td>\n",
              "      <td>3.880000</td>\n",
              "    </tr>\n",
              "    <tr>\n",
              "      <th>50%</th>\n",
              "      <td>546492.500000</td>\n",
              "      <td>5.415000</td>\n",
              "    </tr>\n",
              "    <tr>\n",
              "      <th>75%</th>\n",
              "      <td>546567.250000</td>\n",
              "      <td>7.022500</td>\n",
              "    </tr>\n",
              "    <tr>\n",
              "      <th>max</th>\n",
              "      <td>546592.000000</td>\n",
              "      <td>10.710000</td>\n",
              "    </tr>\n",
              "  </tbody>\n",
              "</table>\n",
              "</div>\n",
              "      <button class=\"colab-df-convert\" onclick=\"convertToInteractive('df-fffef648-d095-4a36-8076-5266916921d4')\"\n",
              "              title=\"Convert this dataframe to an interactive table.\"\n",
              "              style=\"display:none;\">\n",
              "        \n",
              "  <svg xmlns=\"http://www.w3.org/2000/svg\" height=\"24px\"viewBox=\"0 0 24 24\"\n",
              "       width=\"24px\">\n",
              "    <path d=\"M0 0h24v24H0V0z\" fill=\"none\"/>\n",
              "    <path d=\"M18.56 5.44l.94 2.06.94-2.06 2.06-.94-2.06-.94-.94-2.06-.94 2.06-2.06.94zm-11 1L8.5 8.5l.94-2.06 2.06-.94-2.06-.94L8.5 2.5l-.94 2.06-2.06.94zm10 10l.94 2.06.94-2.06 2.06-.94-2.06-.94-.94-2.06-.94 2.06-2.06.94z\"/><path d=\"M17.41 7.96l-1.37-1.37c-.4-.4-.92-.59-1.43-.59-.52 0-1.04.2-1.43.59L10.3 9.45l-7.72 7.72c-.78.78-.78 2.05 0 2.83L4 21.41c.39.39.9.59 1.41.59.51 0 1.02-.2 1.41-.59l7.78-7.78 2.81-2.81c.8-.78.8-2.07 0-2.86zM5.41 20L4 18.59l7.72-7.72 1.47 1.35L5.41 20z\"/>\n",
              "  </svg>\n",
              "      </button>\n",
              "      \n",
              "  <style>\n",
              "    .colab-df-container {\n",
              "      display:flex;\n",
              "      flex-wrap:wrap;\n",
              "      gap: 12px;\n",
              "    }\n",
              "\n",
              "    .colab-df-convert {\n",
              "      background-color: #E8F0FE;\n",
              "      border: none;\n",
              "      border-radius: 50%;\n",
              "      cursor: pointer;\n",
              "      display: none;\n",
              "      fill: #1967D2;\n",
              "      height: 32px;\n",
              "      padding: 0 0 0 0;\n",
              "      width: 32px;\n",
              "    }\n",
              "\n",
              "    .colab-df-convert:hover {\n",
              "      background-color: #E2EBFA;\n",
              "      box-shadow: 0px 1px 2px rgba(60, 64, 67, 0.3), 0px 1px 3px 1px rgba(60, 64, 67, 0.15);\n",
              "      fill: #174EA6;\n",
              "    }\n",
              "\n",
              "    [theme=dark] .colab-df-convert {\n",
              "      background-color: #3B4455;\n",
              "      fill: #D2E3FC;\n",
              "    }\n",
              "\n",
              "    [theme=dark] .colab-df-convert:hover {\n",
              "      background-color: #434B5C;\n",
              "      box-shadow: 0px 1px 3px 1px rgba(0, 0, 0, 0.15);\n",
              "      filter: drop-shadow(0px 1px 2px rgba(0, 0, 0, 0.3));\n",
              "      fill: #FFFFFF;\n",
              "    }\n",
              "  </style>\n",
              "\n",
              "      <script>\n",
              "        const buttonEl =\n",
              "          document.querySelector('#df-fffef648-d095-4a36-8076-5266916921d4 button.colab-df-convert');\n",
              "        buttonEl.style.display =\n",
              "          google.colab.kernel.accessAllowed ? 'block' : 'none';\n",
              "\n",
              "        async function convertToInteractive(key) {\n",
              "          const element = document.querySelector('#df-fffef648-d095-4a36-8076-5266916921d4');\n",
              "          const dataTable =\n",
              "            await google.colab.kernel.invokeFunction('convertToInteractive',\n",
              "                                                     [key], {});\n",
              "          if (!dataTable) return;\n",
              "\n",
              "          const docLinkHtml = 'Like what you see? Visit the ' +\n",
              "            '<a target=\"_blank\" href=https://colab.research.google.com/notebooks/data_table.ipynb>data table notebook</a>'\n",
              "            + ' to learn more about interactive tables.';\n",
              "          element.innerHTML = '';\n",
              "          dataTable['output_type'] = 'display_data';\n",
              "          await google.colab.output.renderOutput(dataTable, element);\n",
              "          const docLink = document.createElement('div');\n",
              "          docLink.innerHTML = docLinkHtml;\n",
              "          element.appendChild(docLink);\n",
              "        }\n",
              "      </script>\n",
              "    </div>\n",
              "  </div>\n",
              "  "
            ]
          },
          "metadata": {},
          "execution_count": 6
        }
      ]
    },
    {
      "cell_type": "code",
      "source": [
        "# Check for missing values.\n",
        "df.isnull().sum()"
      ],
      "metadata": {
        "colab": {
          "base_uri": "https://localhost:8080/"
        },
        "id": "si00tlvPkdU-",
        "outputId": "aaeb4cc4-05dd-403c-e181-dca83b1f0afa"
      },
      "id": "si00tlvPkdU-",
      "execution_count": null,
      "outputs": [
        {
          "output_type": "execute_result",
          "data": {
            "text/plain": [
              "user_id                   0\n",
              "group                     0\n",
              "landing_page              0\n",
              "time_spent_on_the_page    0\n",
              "converted                 0\n",
              "language_preferred        0\n",
              "dtype: int64"
            ]
          },
          "metadata": {},
          "execution_count": 7
        }
      ]
    },
    {
      "cell_type": "code",
      "source": [
        "# Check for duplicates.\n",
        "duplicate_rows = df[df.duplicated()]\n",
        "\n",
        "if duplicate_rows.empty:\n",
        "    print(\"No duplicates found.\")\n",
        "else:\n",
        "    print(\"Duplicate rows:\")\n",
        "    print(duplicate_rows)"
      ],
      "metadata": {
        "colab": {
          "base_uri": "https://localhost:8080/"
        },
        "id": "NtTwEYE6lPKy",
        "outputId": "8ff04237-c8fd-40b4-e1e1-6a3e9f149593"
      },
      "id": "NtTwEYE6lPKy",
      "execution_count": null,
      "outputs": [
        {
          "output_type": "stream",
          "name": "stdout",
          "text": [
            "No duplicates found.\n"
          ]
        }
      ]
    },
    {
      "cell_type": "markdown",
      "metadata": {
        "id": "68f3b2c9"
      },
      "source": [
        "### Univariate Analysis"
      ],
      "id": "68f3b2c9"
    },
    {
      "cell_type": "code",
      "metadata": {
        "id": "1932d0f3",
        "colab": {
          "base_uri": "https://localhost:8080/"
        },
        "outputId": "a65d6a8c-ff0a-4195-890e-2c92471aa906"
      },
      "source": [
        "# Calculate frequency distribution for categorical variables\n",
        "categorical_columns = ['group', 'converted', 'language_preferred']\n",
        "for column in categorical_columns:\n",
        "    freq_dist = df[column].value_counts()\n",
        "    print(freq_dist)"
      ],
      "id": "1932d0f3",
      "execution_count": null,
      "outputs": [
        {
          "output_type": "stream",
          "name": "stdout",
          "text": [
            "control      50\n",
            "treatment    50\n",
            "Name: group, dtype: int64\n",
            "yes    54\n",
            "no     46\n",
            "Name: converted, dtype: int64\n",
            "Spanish    34\n",
            "French     34\n",
            "English    32\n",
            "Name: language_preferred, dtype: int64\n"
          ]
        }
      ]
    },
    {
      "cell_type": "code",
      "source": [
        "# Plot histograms for numerical variables.\n",
        "numerical_columns = ['time_spent_on_the_page']\n",
        "for column in numerical_columns:\n",
        "    plt.hist(df[column], bins=10)\n",
        "    plt.xlabel(column)\n",
        "    plt.ylabel('Frequency')\n",
        "    plt.title(f'Histogram of {column}')\n",
        "    plt.show()\n"
      ],
      "metadata": {
        "colab": {
          "base_uri": "https://localhost:8080/",
          "height": 472
        },
        "id": "JV-_rbqxpxG_",
        "outputId": "4dc9855d-9e1c-4f20-b1d3-7237bbf5a8a7"
      },
      "id": "JV-_rbqxpxG_",
      "execution_count": null,
      "outputs": [
        {
          "output_type": "display_data",
          "data": {
            "text/plain": [
              "<Figure size 640x480 with 1 Axes>"
            ],
            "image/png": "[encoded data removed]"
          },
          "metadata": {}
        }
      ]
    },
    {
      "cell_type": "code",
      "source": [
        "# Plot bar plots for categorical variables\n",
        "for column in categorical_columns:\n",
        "    plt.bar(df[column].value_counts().index, df[column].value_counts())\n",
        "    plt.xlabel(column)\n",
        "    plt.ylabel('Count')\n",
        "    plt.title(f'Bar Plot of {column}')\n",
        "    plt.show()"
      ],
      "metadata": {
        "id": "8OiHt3wOqHw4",
        "outputId": "5e6f0602-2f7a-4e04-f571-6ad1c349d84d",
        "colab": {
          "base_uri": "https://localhost:8080/",
          "height": 1000
        }
      },
      "id": "8OiHt3wOqHw4",
      "execution_count": null,
      "outputs": [
        {
          "output_type": "display_data",
          "data": {
            "text/plain": [
              "<Figure size 640x480 with 1 Axes>"
            ],
            "image/png": "[encoded data removed]"
          },
          "metadata": {}
        },
        {
          "output_type": "display_data",
          "data": {
            "text/plain": [
              "<Figure size 640x480 with 1 Axes>"
            ],
            "image/png": "[encoded data removed]"
          },
          "metadata": {}
        },
        {
          "output_type": "display_data",
          "data": {
            "text/plain": [
              "<Figure size 640x480 with 1 Axes>"
            ],
            "image/png": "[encoded data removed]"
          },
          "metadata": {}
        }
      ]
    },
    {
      "cell_type": "code",
      "source": [
        "# Plot box plots for numerical variables\n",
        "for column in numerical_columns:\n",
        "    plt.boxplot(df[column])\n",
        "    plt.xlabel(column)\n",
        "    plt.title(f'Box Plot of {column}')\n",
        "    plt.show()"
      ],
      "metadata": {
        "colab": {
          "base_uri": "https://localhost:8080/",
          "height": 472
        },
        "id": "DfU8SP4YrIhj",
        "outputId": "be558a20-b09b-4770-be9f-f586e099a1ac"
      },
      "id": "DfU8SP4YrIhj",
      "execution_count": null,
      "outputs": [
        {
          "output_type": "display_data",
          "data": {
            "text/plain": [
              "<Figure size 640x480 with 1 Axes>"
            ],
            "image/png": "[encoded data removed]"
          },
          "metadata": {}
        }
      ]
    },
    {
      "cell_type": "markdown",
      "metadata": {
        "id": "fad2de2f"
      },
      "source": [
        "### Bivariate Analysis"
      ],
      "id": "fad2de2f"
    },
    {
      "cell_type": "markdown",
      "source": [
        "#### Landing page vs Time spent on the page"
      ],
      "metadata": {
        "id": "8Y6fM53VvEV_"
      },
      "id": "8Y6fM53VvEV_"
    },
    {
      "cell_type": "code",
      "metadata": {
        "id": "58e9a1d0",
        "colab": {
          "base_uri": "https://localhost:8080/",
          "height": 472
        },
        "outputId": "20480e87-072d-4124-f32d-cc31594fe429"
      },
      "source": [
        "sns.boxplot(x='landing_page', y='time_spent_on_the_page', data=df)\n",
        "plt.xlabel('Landing Page')\n",
        "plt.ylabel('Time Spent on the Page')\n",
        "plt.title('Bivariate Analysis: Landing Page vs Time Spent on the Page')\n",
        "plt.show()"
      ],
      "id": "58e9a1d0",
      "execution_count": null,
      "outputs": [
        {
          "output_type": "display_data",
          "data": {
            "text/plain": [
              "<Figure size 640x480 with 1 Axes>"
            ],
            "image/png": "[encoded data removed]"
          },
          "metadata": {}
        }
      ]
    },
    {
      "cell_type": "code",
      "source": [
        "landing_pages = df['landing_page'].unique()\n",
        "for landing_page in landing_pages:\n",
        "    subset = df[df['landing_page'] == landing_page]\n",
        "    avg_time_spent = subset['time_spent_on_the_page'].mean()\n",
        "    median_time_spent = subset['time_spent_on_the_page'].median()\n",
        "    print(f\"Landing Page: {landing_page}\")\n",
        "    print(f\"Average Time Spent: {avg_time_spent:.2f}\")\n",
        "    print(f\"Median Time Spent: {median_time_spent:.2f}\")\n",
        "    print()"
      ],
      "metadata": {
        "colab": {
          "base_uri": "https://localhost:8080/"
        },
        "id": "jyoSNxxXuzwJ",
        "outputId": "c5e584b2-302f-446f-97dd-5a24e742bb4e"
      },
      "id": "jyoSNxxXuzwJ",
      "execution_count": null,
      "outputs": [
        {
          "output_type": "stream",
          "name": "stdout",
          "text": [
            "Landing Page: old\n",
            "Average Time Spent: 4.53\n",
            "Median Time Spent: 4.38\n",
            "\n",
            "Landing Page: new\n",
            "Average Time Spent: 6.22\n",
            "Median Time Spent: 6.11\n",
            "\n"
          ]
        }
      ]
    },
    {
      "cell_type": "markdown",
      "source": [
        "#### Conversion status vs Time spent on the page"
      ],
      "metadata": {
        "id": "8RsbVzDBvat-"
      },
      "id": "8RsbVzDBvat-"
    },
    {
      "cell_type": "code",
      "source": [
        "sns.boxplot(x='converted', y='time_spent_on_the_page', data=df)\n",
        "plt.xlabel('Conversion Status')\n",
        "plt.ylabel('Time Spent on the Page')\n",
        "plt.title('Bivariate Analysis: Conversion Status vs Time Spent on the Page')\n",
        "plt.show()"
      ],
      "metadata": {
        "colab": {
          "base_uri": "https://localhost:8080/",
          "height": 472
        },
        "id": "6v--ywZ4thGB",
        "outputId": "4810b526-3c6c-4c82-d6c2-6010d6b198e1"
      },
      "id": "6v--ywZ4thGB",
      "execution_count": null,
      "outputs": [
        {
          "output_type": "display_data",
          "data": {
            "text/plain": [
              "<Figure size 640x480 with 1 Axes>"
            ],
            "image/png": "[encoded data removed]"
          },
          "metadata": {}
        }
      ]
    },
    {
      "cell_type": "code",
      "source": [
        "conversion_status = df['converted'].unique()\n",
        "for status in conversion_status:\n",
        "    subset = df[df['converted'] == status]\n",
        "    avg_time_spent = subset['time_spent_on_the_page'].mean()\n",
        "    median_time_spent = subset['time_spent_on_the_page'].median()\n",
        "    print(f\"Conversion Status: {status}\")\n",
        "    print(f\"Average Time Spent: {avg_time_spent:.2f}\")\n",
        "    print(f\"Median Time Spent: {median_time_spent:.2f}\")\n",
        "    print()"
      ],
      "metadata": {
        "colab": {
          "base_uri": "https://localhost:8080/"
        },
        "id": "WyvInto9uVbx",
        "outputId": "b6cb1055-21eb-4348-ee87-fd2f14d9b373"
      },
      "id": "WyvInto9uVbx",
      "execution_count": null,
      "outputs": [
        {
          "output_type": "stream",
          "name": "stdout",
          "text": [
            "Conversion Status: no\n",
            "Average Time Spent: 3.92\n",
            "Median Time Spent: 3.98\n",
            "\n",
            "Conversion Status: yes\n",
            "Average Time Spent: 6.62\n",
            "Median Time Spent: 6.49\n",
            "\n"
          ]
        }
      ]
    },
    {
      "cell_type": "markdown",
      "source": [
        "#### Language preferred vs Time spent on the page"
      ],
      "metadata": {
        "id": "NpYN5t78vqXp"
      },
      "id": "NpYN5t78vqXp"
    },
    {
      "cell_type": "code",
      "source": [
        "sns.boxplot(x='language_preferred', y='time_spent_on_the_page', data=df)\n",
        "plt.xlabel('Language Preferred')\n",
        "plt.ylabel('Time Spent on the Page')\n",
        "plt.title('Bivariate Analysis: Language Preferred vs Time Spent on the Page')\n",
        "plt.show()\n"
      ],
      "metadata": {
        "colab": {
          "base_uri": "https://localhost:8080/",
          "height": 472
        },
        "id": "c3AZ-1uwvxbf",
        "outputId": "2a4cb6cb-c6c6-489b-d68b-449e1555814d"
      },
      "id": "c3AZ-1uwvxbf",
      "execution_count": null,
      "outputs": [
        {
          "output_type": "display_data",
          "data": {
            "text/plain": [
              "<Figure size 640x480 with 1 Axes>"
            ],
            "image/png": "[encoded data removed]"
          },
          "metadata": {}
        }
      ]
    },
    {
      "cell_type": "code",
      "source": [
        "language_preferences = df['language_preferred'].unique()\n",
        "for preference in language_preferences:\n",
        "    subset = df[df['language_preferred'] == preference]\n",
        "    avg_time_spent = subset['time_spent_on_the_page'].mean()\n",
        "    median_time_spent = subset['time_spent_on_the_page'].median()\n",
        "    print(f\"Language Preferred: {preference}\")\n",
        "    print(f\"Average Time Spent: {avg_time_spent:.2f}\")\n",
        "    print(f\"Median Time Spent: {median_time_spent:.2f}\")\n",
        "    print()\n"
      ],
      "metadata": {
        "colab": {
          "base_uri": "https://localhost:8080/"
        },
        "id": "qHEP0KBkv9Ah",
        "outputId": "6b4902a3-3d06-4b78-86a1-fa639e8914f7"
      },
      "id": "qHEP0KBkv9Ah",
      "execution_count": null,
      "outputs": [
        {
          "output_type": "stream",
          "name": "stdout",
          "text": [
            "Language Preferred: Spanish\n",
            "Average Time Spent: 5.33\n",
            "Median Time Spent: 5.61\n",
            "\n",
            "Language Preferred: English\n",
            "Average Time Spent: 5.56\n",
            "Median Time Spent: 5.76\n",
            "\n",
            "Language Preferred: French\n",
            "Average Time Spent: 5.25\n",
            "Median Time Spent: 5.31\n",
            "\n"
          ]
        }
      ]
    },
    {
      "cell_type": "markdown",
      "metadata": {
        "id": "27906576"
      },
      "source": [
        "## 1. Do the users spend more time on the new landing page than the existing landing page?"
      ],
      "id": "27906576"
    },
    {
      "cell_type": "markdown",
      "metadata": {
        "id": "e5fdf0c8"
      },
      "source": [
        "### Perform Visual Analysis"
      ],
      "id": "e5fdf0c8"
    },
    {
      "cell_type": "code",
      "metadata": {
        "id": "6eZJa41eg21n",
        "colab": {
          "base_uri": "https://localhost:8080/",
          "height": 472
        },
        "outputId": "f08a88bb-9211-4ba0-964a-a3b00ccba218"
      },
      "source": [
        "sns.boxplot(x='landing_page', y='time_spent_on_the_page', data=df)\n",
        "plt.xlabel('Landing Page')\n",
        "plt.ylabel('Time Spent on the Page')\n",
        "plt.title('Bivariate Analysis: Landing Page vs Time Spent on the Page')\n",
        "plt.show()"
      ],
      "id": "6eZJa41eg21n",
      "execution_count": null,
      "outputs": [
        {
          "output_type": "display_data",
          "data": {
            "text/plain": [
              "<Figure size 640x480 with 1 Axes>"
            ],
            "image/png": "[encoded data removed]"
          },
          "metadata": {}
        }
      ]
    },
    {
      "cell_type": "markdown",
      "metadata": {
        "id": "56b3dafd"
      },
      "source": [
        "### Step 1: Define the null and alternate hypotheses"
      ],
      "id": "56b3dafd"
    },
    {
      "cell_type": "markdown",
      "metadata": {
        "id": "d2ac77ef"
      },
      "source": [
        "- H0: μ_new <= μ_existing\n",
        "- H1: μ_new > μ_existing"
      ],
      "id": "d2ac77ef"
    },
    {
      "cell_type": "markdown",
      "metadata": {
        "id": "c7ee4907"
      },
      "source": [
        "### Step 2: Select Appropriate test"
      ],
      "id": "c7ee4907"
    },
    {
      "cell_type": "markdown",
      "metadata": {
        "id": "2c183cd7"
      },
      "source": [
        "For a one-tailed test concerning two population means from two independent populations, where the population standard deviations are unknown, the appropriate test is the independent samples t-test."
      ],
      "id": "2c183cd7"
    },
    {
      "cell_type": "markdown",
      "metadata": {
        "id": "3f58c9a7"
      },
      "source": [
        "### Step 3: Decide the significance level"
      ],
      "id": "3f58c9a7"
    },
    {
      "cell_type": "markdown",
      "metadata": {
        "id": "92d7d7ee"
      },
      "source": [
        "α=0.05\n"
      ],
      "id": "92d7d7ee"
    },
    {
      "cell_type": "markdown",
      "metadata": {
        "id": "5fed2eac"
      },
      "source": [
        "### Step 4: Collect and prepare data"
      ],
      "id": "5fed2eac"
    },
    {
      "cell_type": "code",
      "metadata": {
        "id": "f5a59495"
      },
      "source": [
        "# create subsetted data frame for new landing page users\n",
        "time_spent_new = df[df['landing_page'] == 'new']['time_spent_on_the_page']\n",
        "\n",
        "# create subsetted data frame for old landing page users\n",
        "time_spent_old = df[df['landing_page'] == 'old']['time_spent_on_the_page']"
      ],
      "id": "f5a59495",
      "execution_count": null,
      "outputs": []
    },
    {
      "cell_type": "code",
      "source": [
        "print('The sample standard deviation of the time spent on the new page is:', round(time_spent_new.std(),2))\n",
        "print('The sample standard deviation of the time spent on the old page is:', round(time_spent_old.std(),2))"
      ],
      "metadata": {
        "colab": {
          "base_uri": "https://localhost:8080/"
        },
        "id": "uWWu6-yS-5zx",
        "outputId": "7729ddbc-6a7b-40d7-bfa3-aa7ff741c026"
      },
      "id": "uWWu6-yS-5zx",
      "execution_count": null,
      "outputs": [
        {
          "output_type": "stream",
          "name": "stdout",
          "text": [
            "The sample standard deviation of the time spent on the new page is: 1.82\n",
            "The sample standard deviation of the time spent on the old page is: 2.58\n"
          ]
        }
      ]
    },
    {
      "cell_type": "code",
      "source": [
        "from scipy.stats import levene\n",
        "\n",
        "# Perform Levene's test for equal variances\n",
        "statistic, p_value = levene(time_spent_new, time_spent_old)\n",
        "\n",
        "# Set the significance level\n",
        "alpha = 0.05\n",
        "\n",
        "# Compare the p-value to the significance level\n",
        "if p_value > alpha:\n",
        "    print(\"The population standard deviations can be assumed to be equal.\")\n",
        "else:\n",
        "    print(\"The population standard deviations are not assumed to be equal.\")\n"
      ],
      "metadata": {
        "colab": {
          "base_uri": "https://localhost:8080/"
        },
        "id": "k1Pgp9LZAuUS",
        "outputId": "fd6f4721-a92e-4e0a-92d9-27bec3ebdb85"
      },
      "id": "k1Pgp9LZAuUS",
      "execution_count": null,
      "outputs": [
        {
          "output_type": "stream",
          "name": "stdout",
          "text": [
            "The population standard deviations are not assumed to be equal.\n"
          ]
        }
      ]
    },
    {
      "cell_type": "markdown",
      "metadata": {
        "id": "f5c5258d"
      },
      "source": [
        "### Step 5: Calculate the p-value"
      ],
      "id": "f5c5258d"
    },
    {
      "cell_type": "code",
      "metadata": {
        "id": "fac8594a",
        "colab": {
          "base_uri": "https://localhost:8080/"
        },
        "outputId": "c2291ddb-2e24-40ba-8bb8-bac97534ce3b"
      },
      "source": [
        "from scipy.stats import ttest_ind\n",
        "\n",
        "time_spent_new = df[df['landing_page'] == 'new']['time_spent_on_the_page']\n",
        "time_spent_old = df[df['landing_page'] == 'old']['time_spent_on_the_page']\n",
        "\n",
        "# Perform independent samples t-test\n",
        "test_stat, p_value = ttest_ind(time_spent_new, time_spent_old, equal_var=False, alternative='greater')\n",
        "\n",
        "print('The p-value is', p_value)"
      ],
      "id": "fac8594a",
      "execution_count": null,
      "outputs": [
        {
          "output_type": "stream",
          "name": "stdout",
          "text": [
            "The p-value is 0.0001392381225166549\n"
          ]
        }
      ]
    },
    {
      "cell_type": "markdown",
      "metadata": {
        "id": "359b12f8"
      },
      "source": [
        "### Step 6: Compare the p-value with $\\alpha$"
      ],
      "id": "359b12f8"
    },
    {
      "cell_type": "code",
      "metadata": {
        "id": "7be47289",
        "colab": {
          "base_uri": "https://localhost:8080/"
        },
        "outputId": "16ffdbd5-ff30-466a-d4ae-12d60ebf815c"
      },
      "source": [
        "# print the conclusion based on p-value\n",
        "if p_value < 0.05:\n",
        "    print(f'As the p-value {p_value} is less than the level of significance, we reject the null hypothesis.')\n",
        "else:\n",
        "    print(f'As the p-value {p_value} is greater than the level of significance, we fail to reject the null hypothesis.')"
      ],
      "id": "7be47289",
      "execution_count": null,
      "outputs": [
        {
          "output_type": "stream",
          "name": "stdout",
          "text": [
            "As the p-value 0.0001392381225166549 is less than the level of significance, we reject the null hypothesis.\n"
          ]
        }
      ]
    },
    {
      "cell_type": "markdown",
      "metadata": {
        "id": "d9affc84"
      },
      "source": [
        "### Step 7:  Draw inference"
      ],
      "id": "d9affc84"
    },
    {
      "cell_type": "markdown",
      "metadata": {
        "id": "6b16dd4b"
      },
      "source": [
        "- Statistical Significance: The obtained p-value is less than the significance level of 0.05, indicating that the observed difference in the average time spent on the new and existing landing pages is statistically significant. This means that the likelihood of observing such a significant difference by chance, under the assumption of the null hypothesis, is very low.\n",
        "\n",
        "- Time Spent on the New Landing Page: The data suggests that users spend more time on the new landing page compared to the existing landing page. The alternative hypothesis, which states that the average time spent on the new landing page is greater than the average time spent on the existing landing page, is supported by the statistical evidence.\n",
        "\n",
        "- Practical Significance: While the statistical analysis indicates a significant difference, it is also important to consider the practical significance or the magnitude of the difference. The obtained results do not provide specific information about the actual difference in time spent between the two landing pages. Therefore, additional analysis or further investigations may be needed to understand the practical implications of this difference.\n",
        "\n",
        "- Decision-Making: The findings of this analysis can inform decision-making related to landing page optimization. The evidence suggests that the new landing page may be more engaging or effective in capturing user attention, as it leads to a significantly higher average time spent. This information can be used to support decisions on design choices, user experience improvements, or further experimentation."
      ],
      "id": "6b16dd4b"
    },
    {
      "cell_type": "markdown",
      "metadata": {
        "id": "1ad0823a"
      },
      "source": [
        "**A similar approach can be followed to answer the other questions.**"
      ],
      "id": "1ad0823a"
    },
    {
      "cell_type": "markdown",
      "metadata": {
        "id": "353e9d24"
      },
      "source": [
        "## 2. Is the conversion rate (the proportion of users who visit the landing page and get converted) for the new page greater than the conversion rate for the old page?"
      ],
      "id": "353e9d24"
    },
    {
      "cell_type": "markdown",
      "source": [
        "### Perform Visual Analysis"
      ],
      "metadata": {
        "id": "xjk2GEY1EwMM"
      },
      "id": "xjk2GEY1EwMM"
    },
    {
      "cell_type": "code",
      "metadata": {
        "id": "b7f52898",
        "colab": {
          "base_uri": "https://localhost:8080/",
          "height": 711
        },
        "outputId": "0643d8ec-e10c-4a44-f70c-2c3a3fd7d3d9"
      },
      "source": [
        "# Compare the conversion rate for the new page and the conversion rate for the old page.\n",
        "pd.crosstab(df['landing_page'], df['converted'],normalize='index').plot(kind=\"bar\", figsize=(6,8),stacked=True)\n",
        "plt.legend()\n",
        "plt.show()"
      ],
      "id": "b7f52898",
      "execution_count": null,
      "outputs": [
        {
          "output_type": "display_data",
          "data": {
            "text/plain": [
              "<Figure size 600x800 with 1 Axes>"
            ],
            "image/png": "[encoded data removed]"
          },
          "metadata": {}
        }
      ]
    },
    {
      "cell_type": "markdown",
      "source": [
        "### Step 1: Define the null and alternate hypotheses"
      ],
      "metadata": {
        "id": "nnrkaBaJFX9T"
      },
      "id": "nnrkaBaJFX9T"
    },
    {
      "cell_type": "markdown",
      "source": [
        "- H0: p_new <= p_old\n",
        "- H1: p_new > p_old"
      ],
      "metadata": {
        "id": "FzSxz0BvLXia"
      },
      "id": "FzSxz0BvLXia"
    },
    {
      "cell_type": "markdown",
      "source": [
        "### Step 2: Select Appropriate test"
      ],
      "metadata": {
        "id": "EZ9xqKsxLbdb"
      },
      "id": "EZ9xqKsxLbdb"
    },
    {
      "cell_type": "markdown",
      "source": [
        "For a one-tailed test concerning two population proportions from two independent populations, the appropriate test to use is the two-sample Z-test for proportions."
      ],
      "metadata": {
        "id": "EWA-BaKHM3vn"
      },
      "id": "EWA-BaKHM3vn"
    },
    {
      "cell_type": "markdown",
      "source": [
        "### Step 3: Decide the significance level"
      ],
      "metadata": {
        "id": "SQR26WUwNL0s"
      },
      "id": "SQR26WUwNL0s"
    },
    {
      "cell_type": "markdown",
      "source": [
        "α=0.05"
      ],
      "metadata": {
        "id": "mlkZG_DwNR3l"
      },
      "id": "mlkZG_DwNR3l"
    },
    {
      "cell_type": "markdown",
      "source": [
        "### Step 4: Collect and prepare data"
      ],
      "metadata": {
        "id": "m7i_SrE0NZ-D"
      },
      "id": "m7i_SrE0NZ-D"
    },
    {
      "cell_type": "code",
      "source": [
        "# Calculate the number of converted users in the treatment group\n",
        "new_converted = df[df['group'] == 'treatment']['converted'].value_counts()['yes']\n",
        "# Calculate the number of converted users in the control group\n",
        "old_converted = df[df['group'] == 'control']['converted'].value_counts()['yes']\n",
        "\n",
        "n_control = df.group.value_counts()['control'] # total number of users in the control group\n",
        "n_treatment = df.group.value_counts()['treatment'] # total number of users in the treatment group\n",
        "\n",
        "print('The numbers of users served the new and old pages are {0} and {1} respectively'.format(n_control, n_treatment ))"
      ],
      "metadata": {
        "colab": {
          "base_uri": "https://localhost:8080/"
        },
        "id": "vv4tOLCdN5g3",
        "outputId": "5e774470-a342-4076-a64e-ea718e308eb1"
      },
      "id": "vv4tOLCdN5g3",
      "execution_count": null,
      "outputs": [
        {
          "output_type": "stream",
          "name": "stdout",
          "text": [
            "The numbers of users served the new and old pages are 50 and 50 respectively\n"
          ]
        }
      ]
    },
    {
      "cell_type": "markdown",
      "source": [
        "### Step 5: Calculate the p-value"
      ],
      "metadata": {
        "id": "4DxoZg-8O60C"
      },
      "id": "4DxoZg-8O60C"
    },
    {
      "cell_type": "code",
      "source": [
        "from statsmodels.stats.proportion import proportions_ztest\n",
        "\n",
        "# Perform the two-sample Z-test for proportions\n",
        "test_stat, p_value = proportions_ztest([new_converted, old_converted], [n_treatment, n_control], alternative='larger')\n",
        "\n",
        "print('The p-value is', p_value)"
      ],
      "metadata": {
        "colab": {
          "base_uri": "https://localhost:8080/"
        },
        "id": "bEpK1PMTO8au",
        "outputId": "39eaca34-7a1e-4dbe-b6ce-442d5cf2b5df"
      },
      "id": "bEpK1PMTO8au",
      "execution_count": null,
      "outputs": [
        {
          "output_type": "stream",
          "name": "stdout",
          "text": [
            "The p-value is 0.008026308204056278\n"
          ]
        }
      ]
    },
    {
      "cell_type": "markdown",
      "source": [
        "### Step 6: Compare the p-value with $\\alpha$"
      ],
      "metadata": {
        "id": "pXaoKqglPCyp"
      },
      "id": "pXaoKqglPCyp"
    },
    {
      "cell_type": "code",
      "source": [
        "# print the conclusion based on p-value\n",
        "if p_value < 0.05:\n",
        "    print(f'As the p-value {p_value} is less than the level of significance, we reject the null hypothesis.')\n",
        "else:\n",
        "    print(f'As the p-value {p_value} is greater than the level of significance, we fail to reject the null hypothesis.')"
      ],
      "metadata": {
        "colab": {
          "base_uri": "https://localhost:8080/"
        },
        "id": "SbGl4Qm4PNA0",
        "outputId": "df5e7ab1-4f04-4ff0-aece-a2936d53279a"
      },
      "id": "SbGl4Qm4PNA0",
      "execution_count": null,
      "outputs": [
        {
          "output_type": "stream",
          "name": "stdout",
          "text": [
            "As the p-value 0.008026308204056278 is less than the level of significance, we reject the null hypothesis.\n"
          ]
        }
      ]
    },
    {
      "cell_type": "markdown",
      "source": [
        "### Step 7:  Draw inference"
      ],
      "metadata": {
        "id": "bYFgzT58Pt11"
      },
      "id": "bYFgzT58Pt11"
    },
    {
      "cell_type": "markdown",
      "source": [
        "- Statistical Significance: The p-value is less than the significance level of 0.05, suggesting that there is strong evidence to reject the null hypothesis.\n",
        "\n",
        "- Conversion Rate Difference: The results indicate that the conversion rate for the new landing page is statistically significantly greater than the conversion rate for the old landing page. This suggests that the new landing page design may be more effective in converting users compared to the old landing page.\n",
        "\n",
        "- Practical Significance: While the statistical analysis indicates a significant difference in conversion rates, it's important to consider the practical significance or the magnitude of the difference. The obtained result does not provide specific information about the actual difference in conversion rates between the two landing pages. Additional analysis or further investigations may be necessary to understand the practical implications of this difference.\n",
        "\n",
        "- Decision-Making: The findings from this analysis can inform decision-making related to landing page optimization. The evidence suggests that implementing the new landing page may lead to a higher conversion rate, which can positively impact business outcomes. However, it is important to consider other factors such as user experience, marketing strategies, and cost-effectiveness before making conclusive decisions."
      ],
      "metadata": {
        "id": "C_8vRtp1P1fz"
      },
      "id": "C_8vRtp1P1fz"
    },
    {
      "cell_type": "markdown",
      "metadata": {
        "id": "d49bfa2d"
      },
      "source": [
        "## 3. Is the conversion and preferred language are independent or related?"
      ],
      "id": "d49bfa2d"
    },
    {
      "cell_type": "markdown",
      "source": [
        "### Perform Visual Analysis"
      ],
      "metadata": {
        "id": "OSS8OaPaTigQ"
      },
      "id": "OSS8OaPaTigQ"
    },
    {
      "cell_type": "code",
      "metadata": {
        "id": "b0e63f17",
        "colab": {
          "base_uri": "https://localhost:8080/",
          "height": 728
        },
        "outputId": "a0a99ebc-0e82-498b-cab1-0b92d476a6dc"
      },
      "source": [
        "# Create a cross-tabulation of conversion status and preferred language\n",
        "conversion_language_crosstab = pd.crosstab(df['converted'], df['language_preferred'], normalize='index')\n",
        "\n",
        "# Plot the stacked bar chart\n",
        "conversion_language_crosstab.plot(kind='bar', figsize=(6, 8), stacked=True)\n",
        "plt.xlabel('Conversion Status')\n",
        "plt.ylabel('Proportion')\n",
        "plt.title('Dependency between Conversion Status and Preferred Language')\n",
        "plt.legend()\n",
        "plt.show()"
      ],
      "id": "b0e63f17",
      "execution_count": null,
      "outputs": [
        {
          "output_type": "display_data",
          "data": {
            "text/plain": [
              "<Figure size 600x800 with 1 Axes>"
            ],
            "image/png": "[encoded data removed]"
          },
          "metadata": {}
        }
      ]
    },
    {
      "cell_type": "markdown",
      "source": [
        "### Step 1: Define the null and alternate hypotheses"
      ],
      "metadata": {
        "id": "6EqD0ghDUeFS"
      },
      "id": "6EqD0ghDUeFS"
    },
    {
      "cell_type": "markdown",
      "source": [
        "- H0: The converted status and preferred language are independent.\n",
        "- H1: The converted status and preferred language are dependent."
      ],
      "metadata": {
        "id": "6DiV8PKDVQxq"
      },
      "id": "6DiV8PKDVQxq"
    },
    {
      "cell_type": "markdown",
      "source": [
        "### Step 2: Select Appropriate test"
      ],
      "metadata": {
        "id": "1YZlOgCoVdOa"
      },
      "id": "1YZlOgCoVdOa"
    },
    {
      "cell_type": "markdown",
      "source": [
        "The chi-square test of independence is used to assess whether there is a significant association or dependency between two categorical variables."
      ],
      "metadata": {
        "id": "8XbjLFQlWFMc"
      },
      "id": "8XbjLFQlWFMc"
    },
    {
      "cell_type": "markdown",
      "source": [
        "### Step 3: Decide the significance level"
      ],
      "metadata": {
        "id": "W2aRrvdCWKPY"
      },
      "id": "W2aRrvdCWKPY"
    },
    {
      "cell_type": "markdown",
      "source": [
        "α=0.05"
      ],
      "metadata": {
        "id": "akaCpk0IWWUz"
      },
      "id": "akaCpk0IWWUz"
    },
    {
      "cell_type": "markdown",
      "source": [
        "### Step 4: Collect and prepare data"
      ],
      "metadata": {
        "id": "c_wYgcBBWb9x"
      },
      "id": "c_wYgcBBWb9x"
    },
    {
      "cell_type": "code",
      "source": [
        "# Create a contingency table of the two categorical variables\n",
        "contingency_table = pd.crosstab(df['converted'], df['language_preferred'])\n",
        "contingency_table"
      ],
      "metadata": {
        "colab": {
          "base_uri": "https://localhost:8080/",
          "height": 143
        },
        "id": "alPf-XyAWhNM",
        "outputId": "6419d180-9d7f-45d4-cacb-44e4c7453b93"
      },
      "id": "alPf-XyAWhNM",
      "execution_count": null,
      "outputs": [
        {
          "output_type": "execute_result",
          "data": {
            "text/plain": [
              "language_preferred  English  French  Spanish\n",
              "converted                                   \n",
              "no                       11      19       16\n",
              "yes                      21      15       18"
            ],
            "text/html": [
              "\n",
              "  <div id=\"df-ceebd888-e2a0-4320-b149-2453664c91e3\">\n",
              "    <div class=\"colab-df-container\">\n",
              "      <div>\n",
              "<style scoped>\n",
              "    .dataframe tbody tr th:only-of-type {\n",
              "        vertical-align: middle;\n",
              "    }\n",
              "\n",
              "    .dataframe tbody tr th {\n",
              "        vertical-align: top;\n",
              "    }\n",
              "\n",
              "    .dataframe thead th {\n",
              "        text-align: right;\n",
              "    }\n",
              "</style>\n",
              "<table border=\"1\" class=\"dataframe\">\n",
              "  <thead>\n",
              "    <tr style=\"text-align: right;\">\n",
              "      <th>language_preferred</th>\n",
              "      <th>English</th>\n",
              "      <th>French</th>\n",
              "      <th>Spanish</th>\n",
              "    </tr>\n",
              "    <tr>\n",
              "      <th>converted</th>\n",
              "      <th></th>\n",
              "      <th></th>\n",
              "      <th></th>\n",
              "    </tr>\n",
              "  </thead>\n",
              "  <tbody>\n",
              "    <tr>\n",
              "      <th>no</th>\n",
              "      <td>11</td>\n",
              "      <td>19</td>\n",
              "      <td>16</td>\n",
              "    </tr>\n",
              "    <tr>\n",
              "      <th>yes</th>\n",
              "      <td>21</td>\n",
              "      <td>15</td>\n",
              "      <td>18</td>\n",
              "    </tr>\n",
              "  </tbody>\n",
              "</table>\n",
              "</div>\n",
              "      <button class=\"colab-df-convert\" onclick=\"convertToInteractive('df-ceebd888-e2a0-4320-b149-2453664c91e3')\"\n",
              "              title=\"Convert this dataframe to an interactive table.\"\n",
              "              style=\"display:none;\">\n",
              "        \n",
              "  <svg xmlns=\"http://www.w3.org/2000/svg\" height=\"24px\"viewBox=\"0 0 24 24\"\n",
              "       width=\"24px\">\n",
              "    <path d=\"M0 0h24v24H0V0z\" fill=\"none\"/>\n",
              "    <path d=\"M18.56 5.44l.94 2.06.94-2.06 2.06-.94-2.06-.94-.94-2.06-.94 2.06-2.06.94zm-11 1L8.5 8.5l.94-2.06 2.06-.94-2.06-.94L8.5 2.5l-.94 2.06-2.06.94zm10 10l.94 2.06.94-2.06 2.06-.94-2.06-.94-.94-2.06-.94 2.06-2.06.94z\"/><path d=\"M17.41 7.96l-1.37-1.37c-.4-.4-.92-.59-1.43-.59-.52 0-1.04.2-1.43.59L10.3 9.45l-7.72 7.72c-.78.78-.78 2.05 0 2.83L4 21.41c.39.39.9.59 1.41.59.51 0 1.02-.2 1.41-.59l7.78-7.78 2.81-2.81c.8-.78.8-2.07 0-2.86zM5.41 20L4 18.59l7.72-7.72 1.47 1.35L5.41 20z\"/>\n",
              "  </svg>\n",
              "      </button>\n",
              "      \n",
              "  <style>\n",
              "    .colab-df-container {\n",
              "      display:flex;\n",
              "      flex-wrap:wrap;\n",
              "      gap: 12px;\n",
              "    }\n",
              "\n",
              "    .colab-df-convert {\n",
              "      background-color: #E8F0FE;\n",
              "      border: none;\n",
              "      border-radius: 50%;\n",
              "      cursor: pointer;\n",
              "      display: none;\n",
              "      fill: #1967D2;\n",
              "      height: 32px;\n",
              "      padding: 0 0 0 0;\n",
              "      width: 32px;\n",
              "    }\n",
              "\n",
              "    .colab-df-convert:hover {\n",
              "      background-color: #E2EBFA;\n",
              "      box-shadow: 0px 1px 2px rgba(60, 64, 67, 0.3), 0px 1px 3px 1px rgba(60, 64, 67, 0.15);\n",
              "      fill: #174EA6;\n",
              "    }\n",
              "\n",
              "    [theme=dark] .colab-df-convert {\n",
              "      background-color: #3B4455;\n",
              "      fill: #D2E3FC;\n",
              "    }\n",
              "\n",
              "    [theme=dark] .colab-df-convert:hover {\n",
              "      background-color: #434B5C;\n",
              "      box-shadow: 0px 1px 3px 1px rgba(0, 0, 0, 0.15);\n",
              "      filter: drop-shadow(0px 1px 2px rgba(0, 0, 0, 0.3));\n",
              "      fill: #FFFFFF;\n",
              "    }\n",
              "  </style>\n",
              "\n",
              "      <script>\n",
              "        const buttonEl =\n",
              "          document.querySelector('#df-ceebd888-e2a0-4320-b149-2453664c91e3 button.colab-df-convert');\n",
              "        buttonEl.style.display =\n",
              "          google.colab.kernel.accessAllowed ? 'block' : 'none';\n",
              "\n",
              "        async function convertToInteractive(key) {\n",
              "          const element = document.querySelector('#df-ceebd888-e2a0-4320-b149-2453664c91e3');\n",
              "          const dataTable =\n",
              "            await google.colab.kernel.invokeFunction('convertToInteractive',\n",
              "                                                     [key], {});\n",
              "          if (!dataTable) return;\n",
              "\n",
              "          const docLinkHtml = 'Like what you see? Visit the ' +\n",
              "            '<a target=\"_blank\" href=https://colab.research.google.com/notebooks/data_table.ipynb>data table notebook</a>'\n",
              "            + ' to learn more about interactive tables.';\n",
              "          element.innerHTML = '';\n",
              "          dataTable['output_type'] = 'display_data';\n",
              "          await google.colab.output.renderOutput(dataTable, element);\n",
              "          const docLink = document.createElement('div');\n",
              "          docLink.innerHTML = docLinkHtml;\n",
              "          element.appendChild(docLink);\n",
              "        }\n",
              "      </script>\n",
              "    </div>\n",
              "  </div>\n",
              "  "
            ]
          },
          "metadata": {},
          "execution_count": 30
        }
      ]
    },
    {
      "cell_type": "markdown",
      "source": [
        "### Step 5: Calculate the p-value"
      ],
      "metadata": {
        "id": "Vgly-k3vW6be"
      },
      "id": "Vgly-k3vW6be"
    },
    {
      "cell_type": "code",
      "source": [
        "from scipy.stats import chi2_contingency\n",
        "\n",
        "chi2, p_value, dof, exp_freq = chi2_contingency(contingency_table)\n",
        "\n",
        "print('The p-value is', p_value)"
      ],
      "metadata": {
        "colab": {
          "base_uri": "https://localhost:8080/"
        },
        "id": "tPJuef2SXA6R",
        "outputId": "91fc1bdf-0693-4dbb-d5df-6ca3b8b0370a"
      },
      "id": "tPJuef2SXA6R",
      "execution_count": null,
      "outputs": [
        {
          "output_type": "stream",
          "name": "stdout",
          "text": [
            "The p-value is 0.21298887487543447\n"
          ]
        }
      ]
    },
    {
      "cell_type": "markdown",
      "source": [
        "### Step 6: Compare the p-value with $\\alpha$"
      ],
      "metadata": {
        "id": "UVF6XC1sXfqz"
      },
      "id": "UVF6XC1sXfqz"
    },
    {
      "cell_type": "code",
      "source": [
        "if p_value < 0.05:\n",
        "    print(f'As the p-value {p_value} is less than the level of significance, we reject the null hypothesis.')\n",
        "else:\n",
        "    print(f'As the p-value {p_value} is greater than the level of significance, we fail to reject the null hypothesis.')"
      ],
      "metadata": {
        "colab": {
          "base_uri": "https://localhost:8080/"
        },
        "id": "gTTHUxTcXxaB",
        "outputId": "d563b34b-1c79-4e93-c6ca-9be4d6af08ee"
      },
      "id": "gTTHUxTcXxaB",
      "execution_count": null,
      "outputs": [
        {
          "output_type": "stream",
          "name": "stdout",
          "text": [
            "As the p-value 0.21298887487543447 is greater than the level of significance, we fail to reject the null hypothesis.\n"
          ]
        }
      ]
    },
    {
      "cell_type": "markdown",
      "source": [
        "### Step 7:  Draw inference"
      ],
      "metadata": {
        "id": "IkDrkTFdYEWh"
      },
      "id": "IkDrkTFdYEWh"
    },
    {
      "cell_type": "markdown",
      "source": [
        "- Statistical Significance: The p-value is greater than the chosen significance level of 0.05. This indicates that we do not have sufficient evidence to reject the null hypothesis.\n",
        "\n",
        "- Independence: The p-value suggests that there is no significant association or dependency between the converted status and preferred language.\n",
        "\n",
        "- Conclusion: Based on the results, we fail to reject the null hypothesis, which suggests that the converted status and preferred language are independent variables. This means that there is no significant evidence to suggest that the preferred language has an influence on the conversion status.\n",
        "\n",
        "- Practical Implications: The lack of a significant association between the converted status and preferred language suggests that other factors may play a more significant role in determining the conversion status. It indicates that the preferred language alone may not be a strong predictor or influencer of the conversion outcome."
      ],
      "metadata": {
        "id": "v1MY0PvEYJn-"
      },
      "id": "v1MY0PvEYJn-"
    },
    {
      "cell_type": "markdown",
      "metadata": {
        "id": "8d585a90"
      },
      "source": [
        "## 4. Is the time spent on the new page same for the different language users?"
      ],
      "id": "8d585a90"
    },
    {
      "cell_type": "markdown",
      "source": [
        "### Perform Visual Analysis"
      ],
      "metadata": {
        "id": "eMj4MrAMYkTy"
      },
      "id": "eMj4MrAMYkTy"
    },
    {
      "cell_type": "code",
      "metadata": {
        "id": "b422f395",
        "colab": {
          "base_uri": "https://localhost:8080/",
          "height": 718
        },
        "outputId": "0893fb52-3064-491b-d25a-928a5a3212f4"
      },
      "source": [
        "# Plot the time spent on the new page for different language users.\n",
        "df_new = df[df['landing_page'] == 'new']\n",
        "plt.figure(figsize=(8, 8))\n",
        "sns.boxplot(x='language_preferred', y='time_spent_on_the_page', showmeans=True, data=df_new)\n",
        "plt.xlabel('Language Preferred')\n",
        "plt.ylabel('Time Spent on the New Page')\n",
        "plt.title('Time Spent on the New Page for Different Language Users')\n",
        "plt.show()\n"
      ],
      "id": "b422f395",
      "execution_count": null,
      "outputs": [
        {
          "output_type": "display_data",
          "data": {
            "text/plain": [
              "<Figure size 800x800 with 1 Axes>"
            ],
            "image/png": "[encoded data removed]"
          },
          "metadata": {}
        }
      ]
    },
    {
      "cell_type": "code",
      "source": [
        "# Calculate the mean time spent on the new page for different language users.\n",
        "df_new.groupby('language_preferred')['time_spent_on_the_page'].mean()"
      ],
      "metadata": {
        "colab": {
          "base_uri": "https://localhost:8080/"
        },
        "id": "39HSHrYHailw",
        "outputId": "4662fa22-90ed-4718-e078-5838ec527ad9"
      },
      "id": "39HSHrYHailw",
      "execution_count": null,
      "outputs": [
        {
          "output_type": "execute_result",
          "data": {
            "text/plain": [
              "language_preferred\n",
              "English    6.663750\n",
              "French     6.196471\n",
              "Spanish    5.835294\n",
              "Name: time_spent_on_the_page, dtype: float64"
            ]
          },
          "metadata": {},
          "execution_count": 34
        }
      ]
    },
    {
      "cell_type": "markdown",
      "source": [
        "### Step 1: Define the null and alternate hypotheses"
      ],
      "metadata": {
        "id": "K4xib5EhbjdN"
      },
      "id": "K4xib5EhbjdN"
    },
    {
      "cell_type": "markdown",
      "source": [
        "- H0: μ1 = μ2 = μ3 = ... = μn\n",
        "- H1: At least one pair of means is significantly different\n",
        "\n",
        "where:\n",
        "\n",
        "μ1, μ2, μ3, ..., μn represent the population means of time spent on the new page for different language users."
      ],
      "metadata": {
        "id": "lnwqe-j6boNx"
      },
      "id": "lnwqe-j6boNx"
    },
    {
      "cell_type": "markdown",
      "source": [
        "### Step 2: Select Appropriate test"
      ],
      "metadata": {
        "id": "f0TAMe31cI1q"
      },
      "id": "f0TAMe31cI1q"
    },
    {
      "cell_type": "markdown",
      "source": [
        "The one-way ANOVA test is used to compare the means of three or more independent groups. It assesses whether there are any statistically significant differences among the means of the groups based on the variances and means of the samples."
      ],
      "metadata": {
        "id": "0hk9GO9cdWvO"
      },
      "id": "0hk9GO9cdWvO"
    },
    {
      "cell_type": "markdown",
      "source": [
        "### Step 3: Decide the significance level"
      ],
      "metadata": {
        "id": "7xfUTg--dasm"
      },
      "id": "7xfUTg--dasm"
    },
    {
      "cell_type": "markdown",
      "source": [
        "α=0.05"
      ],
      "metadata": {
        "id": "jTnxzubZdgAQ"
      },
      "id": "jTnxzubZdgAQ"
    },
    {
      "cell_type": "markdown",
      "source": [
        "### Step 4: Collect and prepare data"
      ],
      "metadata": {
        "id": "j6hw6zWXdmgb"
      },
      "id": "j6hw6zWXdmgb"
    },
    {
      "cell_type": "code",
      "source": [
        "# Create a subsetted data frame of the time spent on the new page by English language users\n",
        "time_spent_English = df_new[df_new['language_preferred']==\"English\"]['time_spent_on_the_page']\n",
        "# Create subsetted data frames of the time spent on the new page by French and Spanish language users\n",
        "time_spent_French = df_new[df_new['language_preferred']==\"French\"]['time_spent_on_the_page']\n",
        "time_spent_Spanish = df_new[df_new['language_preferred']==\"Spanish\"]['time_spent_on_the_page']"
      ],
      "metadata": {
        "id": "wdQzj-Y1ds2O"
      },
      "id": "wdQzj-Y1ds2O",
      "execution_count": null,
      "outputs": []
    },
    {
      "cell_type": "markdown",
      "source": [
        "### Step 5: Calculate the p-value"
      ],
      "metadata": {
        "id": "WPOS5FSKjsxT"
      },
      "id": "WPOS5FSKjsxT"
    },
    {
      "cell_type": "code",
      "source": [
        "from scipy.stats import f_oneway\n",
        "\n",
        "test_stat, p_value = f_oneway(time_spent_English, time_spent_French, time_spent_Spanish)\n",
        "\n",
        "print('The p-value is', p_value)"
      ],
      "metadata": {
        "colab": {
          "base_uri": "https://localhost:8080/"
        },
        "id": "hunXxPfzjxmC",
        "outputId": "fb9eeed8-4ed4-4ebe-b239-c7653d6bb33a"
      },
      "id": "hunXxPfzjxmC",
      "execution_count": null,
      "outputs": [
        {
          "output_type": "stream",
          "name": "stdout",
          "text": [
            "The p-value is 0.43204138694325955\n"
          ]
        }
      ]
    },
    {
      "cell_type": "markdown",
      "source": [
        "### Step 6: Compare the p-value with $\\alpha$"
      ],
      "metadata": {
        "id": "VmdFCTJEkHXI"
      },
      "id": "VmdFCTJEkHXI"
    },
    {
      "cell_type": "code",
      "source": [
        "if p_value < 0.05:\n",
        "    print(f'As the p-value {p_value} is less than the level of significance, we reject the null hypothesis.')\n",
        "else:\n",
        "    print(f'As the p-value {p_value} is greater than the level of significance, we fail to reject the null hypothesis.')"
      ],
      "metadata": {
        "colab": {
          "base_uri": "https://localhost:8080/"
        },
        "id": "lN5OiHtzkTvh",
        "outputId": "9f55da98-b2bc-4781-efbf-12493be2b846"
      },
      "id": "lN5OiHtzkTvh",
      "execution_count": null,
      "outputs": [
        {
          "output_type": "stream",
          "name": "stdout",
          "text": [
            "As the p-value 0.43204138694325955 is greater than the level of significance, we fail to reject the null hypothesis.\n"
          ]
        }
      ]
    },
    {
      "cell_type": "markdown",
      "source": [
        "### Step 7:  Draw inference"
      ],
      "metadata": {
        "id": "j8RI6uSokf3m"
      },
      "id": "j8RI6uSokf3m"
    },
    {
      "cell_type": "markdown",
      "source": [
        "- Statistical Significance: The p-value is greater than the chosen significance level (0.05). This suggests that there is no significant evidence to reject the null hypothesis.\n",
        "\n",
        "- Equality of Means: The p-value indicates that there is no significant difference in the mean time spent on the new page among the different language user groups.\n",
        "\n",
        "- Conclusion: Based on the results, we fail to reject the null hypothesis, which suggests that the mean time spent on the new page is likely similar across English, French, and Spanish language users.\n",
        "\n",
        "- Practical Implications: The lack of a significant difference in mean time spent on the new page among language user groups suggests that the language preference may not significantly impact the time spent on the new page. Other factors or variables might have a more substantial influence on the time spent."
      ],
      "metadata": {
        "id": "jn8hJWMCkgLt"
      },
      "id": "jn8hJWMCkgLt"
    },
    {
      "cell_type": "markdown",
      "metadata": {
        "id": "3acbc947"
      },
      "source": [
        "## Conclusion and Business Recommendations"
      ],
      "id": "3acbc947"
    },
    {
      "cell_type": "markdown",
      "metadata": {
        "id": "21fb1063"
      },
      "source": [
        "Conclusions:\n",
        "\n",
        "- Conversion Rate: The analysis comparing the conversion rates for the new and old landing pages indicated a statistically significant difference. The new landing page showed a higher conversion rate compared to the old landing page. This suggests that implementing the new landing page could potentially lead to increased conversions.\n",
        "\n",
        "- Time Spent on the New Page: The analysis of the time spent on the new page for different language users did not reveal a significant difference. The preferred language did not appear to have a substantial impact on the time users spent on the new page. Therefore, language preference may not be a key factor influencing engagement with the page.\n",
        "\n",
        "- Conversion Status and Preferred Language: The analysis of the contingency table did not provide significant evidence of an association between the conversion status and preferred language. The preferred language of the users did not appear to be strongly related to their conversion status. Other factors may have a more significant influence on the conversion outcome.\n",
        "\n",
        "Business Recommendations:\n",
        "\n",
        "- Implement the New Landing Page: Based on the significantly higher conversion rate observed for the new landing page, it is recommended to implement and promote the new landing page to attract more conversions. Monitor and track the performance of the new page to assess its long-term impact on conversions.\n",
        "\n",
        "- Focus on User Experience: While language preference did not significantly affect the time spent on the new page or the conversion status, it is still essential to prioritize a positive user experience. Ensure that the page content and design are user-friendly, accessible, and cater to a diverse audience.\n",
        "\n",
        "- Consider Additional Factors: While language preference did not show a strong association with the conversion status, it is crucial to consider other factors that may impact conversions. Analyze other variables such as demographics, source of traffic, or user behavior to identify potential factors influencing conversion rates.\n",
        "\n",
        "- Continuous Testing and Optimization: Conduct ongoing testing and optimization of landing pages to identify the most effective designs, content, and user experiences. A/B testing and user feedback can provide valuable insights for further optimization efforts."
      ],
      "id": "21fb1063"
    },
    {
      "cell_type": "markdown",
      "source": [
        "___"
      ],
      "metadata": {
        "id": "U0dAd4i0iCHo"
      },
      "id": "U0dAd4i0iCHo"
    }
  ]
}